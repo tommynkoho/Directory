{
 "cells": [
  {
   "cell_type": "code",
   "execution_count": 7,
   "id": "385be7aa",
   "metadata": {},
   "outputs": [
    {
     "name": "stdout",
     "output_type": "stream",
     "text": [
      "Current Working Directory is:  /Users/charlesthomasnkoho\n"
     ]
    }
   ],
   "source": [
    "# Get Current Working Directory with os.getcwd()\n",
    "import os\n",
    "cwd = os.getcwd()\n",
    "print('Current Working Directory is: ', cwd)\n",
    "# Returns: Current Working Directory is:  /Users/datagy"
   ]
  },
  {
   "cell_type": "code",
   "execution_count": 8,
   "id": "c134d558",
   "metadata": {},
   "outputs": [
    {
     "name": "stdout",
     "output_type": "stream",
     "text": [
      "Current Working Directory is:  /Users/charlesthomasnkoho\n",
      "New working directory is:  /Users/charlesthomasnkoho/Documents\n"
     ]
    }
   ],
   "source": [
    "# Change the current working directory with os.chdir()\n",
    "import os\n",
    "cwd = os.getcwd()\n",
    "print('Current Working Directory is: ', cwd)\n",
    "absolute_path = '/Users/charlesthomasnkoho/Documents'\n",
    "os.chdir(absolute_path)\n",
    "print('New working directory is: ', os.getcwd())\n",
    "# Returns:\n",
    "# Current Working Directory is:  /Users/datagy\n",
    "# New working directory is:  /Users/datagy/Documents"
   ]
  },
  {
   "cell_type": "code",
   "execution_count": 9,
   "id": "f1eef315",
   "metadata": {},
   "outputs": [],
   "source": [
    "df = pd.read_csv(\"/Users/charlesthomasnkoho/Documents/NVDA.csv\")"
   ]
  },
  {
   "cell_type": "code",
   "execution_count": 10,
   "id": "c801aed5",
   "metadata": {},
   "outputs": [],
   "source": [
    "data = df.copy()"
   ]
  },
  {
   "cell_type": "code",
   "execution_count": 11,
   "id": "8171d7d1",
   "metadata": {},
   "outputs": [
    {
     "data": {
      "text/html": [
       "<div>\n",
       "<style scoped>\n",
       "    .dataframe tbody tr th:only-of-type {\n",
       "        vertical-align: middle;\n",
       "    }\n",
       "\n",
       "    .dataframe tbody tr th {\n",
       "        vertical-align: top;\n",
       "    }\n",
       "\n",
       "    .dataframe thead th {\n",
       "        text-align: right;\n",
       "    }\n",
       "</style>\n",
       "<table border=\"1\" class=\"dataframe\">\n",
       "  <thead>\n",
       "    <tr style=\"text-align: right;\">\n",
       "      <th></th>\n",
       "      <th>Open</th>\n",
       "      <th>High</th>\n",
       "      <th>Low</th>\n",
       "      <th>Close</th>\n",
       "      <th>Adj Close</th>\n",
       "      <th>Volume</th>\n",
       "    </tr>\n",
       "  </thead>\n",
       "  <tbody>\n",
       "    <tr>\n",
       "      <th>count</th>\n",
       "      <td>1260.000000</td>\n",
       "      <td>1260.000000</td>\n",
       "      <td>1260.000000</td>\n",
       "      <td>1260.000000</td>\n",
       "      <td>1260.000000</td>\n",
       "      <td>1.260000e+03</td>\n",
       "    </tr>\n",
       "    <tr>\n",
       "      <th>mean</th>\n",
       "      <td>104.245667</td>\n",
       "      <td>106.161260</td>\n",
       "      <td>102.120244</td>\n",
       "      <td>104.188327</td>\n",
       "      <td>103.927899</td>\n",
       "      <td>4.920926e+07</td>\n",
       "    </tr>\n",
       "    <tr>\n",
       "      <th>std</th>\n",
       "      <td>74.594439</td>\n",
       "      <td>76.233616</td>\n",
       "      <td>72.639107</td>\n",
       "      <td>74.435649</td>\n",
       "      <td>74.528081</td>\n",
       "      <td>2.500132e+07</td>\n",
       "    </tr>\n",
       "    <tr>\n",
       "      <th>min</th>\n",
       "      <td>31.622499</td>\n",
       "      <td>32.494999</td>\n",
       "      <td>31.115000</td>\n",
       "      <td>31.770000</td>\n",
       "      <td>31.554657</td>\n",
       "      <td>9.788400e+06</td>\n",
       "    </tr>\n",
       "    <tr>\n",
       "      <th>25%</th>\n",
       "      <td>47.730000</td>\n",
       "      <td>48.263749</td>\n",
       "      <td>46.923750</td>\n",
       "      <td>47.699374</td>\n",
       "      <td>47.265405</td>\n",
       "      <td>3.182070e+07</td>\n",
       "    </tr>\n",
       "    <tr>\n",
       "      <th>50%</th>\n",
       "      <td>63.825001</td>\n",
       "      <td>65.187500</td>\n",
       "      <td>62.774999</td>\n",
       "      <td>63.987499</td>\n",
       "      <td>63.539827</td>\n",
       "      <td>4.384260e+07</td>\n",
       "    </tr>\n",
       "    <tr>\n",
       "      <th>75%</th>\n",
       "      <td>140.021874</td>\n",
       "      <td>142.399372</td>\n",
       "      <td>137.488751</td>\n",
       "      <td>139.945625</td>\n",
       "      <td>139.818382</td>\n",
       "      <td>6.085220e+07</td>\n",
       "    </tr>\n",
       "    <tr>\n",
       "      <th>max</th>\n",
       "      <td>335.170013</td>\n",
       "      <td>346.470001</td>\n",
       "      <td>320.359985</td>\n",
       "      <td>333.760010</td>\n",
       "      <td>333.591766</td>\n",
       "      <td>2.511528e+08</td>\n",
       "    </tr>\n",
       "  </tbody>\n",
       "</table>\n",
       "</div>"
      ],
      "text/plain": [
       "              Open         High          Low        Close    Adj Close  \\\n",
       "count  1260.000000  1260.000000  1260.000000  1260.000000  1260.000000   \n",
       "mean    104.245667   106.161260   102.120244   104.188327   103.927899   \n",
       "std      74.594439    76.233616    72.639107    74.435649    74.528081   \n",
       "min      31.622499    32.494999    31.115000    31.770000    31.554657   \n",
       "25%      47.730000    48.263749    46.923750    47.699374    47.265405   \n",
       "50%      63.825001    65.187500    62.774999    63.987499    63.539827   \n",
       "75%     140.021874   142.399372   137.488751   139.945625   139.818382   \n",
       "max     335.170013   346.470001   320.359985   333.760010   333.591766   \n",
       "\n",
       "             Volume  \n",
       "count  1.260000e+03  \n",
       "mean   4.920926e+07  \n",
       "std    2.500132e+07  \n",
       "min    9.788400e+06  \n",
       "25%    3.182070e+07  \n",
       "50%    4.384260e+07  \n",
       "75%    6.085220e+07  \n",
       "max    2.511528e+08  "
      ]
     },
     "execution_count": 11,
     "metadata": {},
     "output_type": "execute_result"
    }
   ],
   "source": [
    "df.describe()"
   ]
  },
  {
   "cell_type": "code",
   "execution_count": 12,
   "id": "4d004716",
   "metadata": {},
   "outputs": [
    {
     "name": "stdout",
     "output_type": "stream",
     "text": [
      "<class 'pandas.core.frame.DataFrame'>\n",
      "RangeIndex: 1260 entries, 0 to 1259\n",
      "Data columns (total 7 columns):\n",
      " #   Column     Non-Null Count  Dtype  \n",
      "---  ------     --------------  -----  \n",
      " 0   Date       1260 non-null   object \n",
      " 1   Open       1260 non-null   float64\n",
      " 2   High       1260 non-null   float64\n",
      " 3   Low        1260 non-null   float64\n",
      " 4   Close      1260 non-null   float64\n",
      " 5   Adj Close  1260 non-null   float64\n",
      " 6   Volume     1260 non-null   int64  \n",
      "dtypes: float64(5), int64(1), object(1)\n",
      "memory usage: 69.0+ KB\n"
     ]
    }
   ],
   "source": [
    "df.info()"
   ]
  },
  {
   "cell_type": "code",
   "execution_count": 13,
   "id": "82207a86",
   "metadata": {},
   "outputs": [],
   "source": [
    "df['Date']=pd.to_datetime(df['Date'])\n",
    "df.set_index(['Date'],inplace=True)"
   ]
  },
  {
   "cell_type": "code",
   "execution_count": 14,
   "id": "bc15b9ea",
   "metadata": {},
   "outputs": [
    {
     "name": "stdout",
     "output_type": "stream",
     "text": [
      "<class 'pandas.core.frame.DataFrame'>\n",
      "DatetimeIndex: 1260 entries, 2017-06-12 to 2022-06-10\n",
      "Data columns (total 6 columns):\n",
      " #   Column     Non-Null Count  Dtype  \n",
      "---  ------     --------------  -----  \n",
      " 0   Open       1260 non-null   float64\n",
      " 1   High       1260 non-null   float64\n",
      " 2   Low        1260 non-null   float64\n",
      " 3   Close      1260 non-null   float64\n",
      " 4   Adj Close  1260 non-null   float64\n",
      " 5   Volume     1260 non-null   int64  \n",
      "dtypes: float64(5), int64(1)\n",
      "memory usage: 68.9 KB\n"
     ]
    }
   ],
   "source": [
    "df.info()"
   ]
  },
  {
   "cell_type": "code",
   "execution_count": 15,
   "id": "495e29d9",
   "metadata": {},
   "outputs": [
    {
     "data": {
      "text/html": [
       "<div>\n",
       "<style scoped>\n",
       "    .dataframe tbody tr th:only-of-type {\n",
       "        vertical-align: middle;\n",
       "    }\n",
       "\n",
       "    .dataframe tbody tr th {\n",
       "        vertical-align: top;\n",
       "    }\n",
       "\n",
       "    .dataframe thead th {\n",
       "        text-align: right;\n",
       "    }\n",
       "</style>\n",
       "<table border=\"1\" class=\"dataframe\">\n",
       "  <thead>\n",
       "    <tr style=\"text-align: right;\">\n",
       "      <th></th>\n",
       "      <th>Missing Values</th>\n",
       "      <th>Percentage</th>\n",
       "    </tr>\n",
       "  </thead>\n",
       "  <tbody>\n",
       "    <tr>\n",
       "      <th>Open</th>\n",
       "      <td>0</td>\n",
       "      <td>0.0</td>\n",
       "    </tr>\n",
       "    <tr>\n",
       "      <th>High</th>\n",
       "      <td>0</td>\n",
       "      <td>0.0</td>\n",
       "    </tr>\n",
       "    <tr>\n",
       "      <th>Low</th>\n",
       "      <td>0</td>\n",
       "      <td>0.0</td>\n",
       "    </tr>\n",
       "    <tr>\n",
       "      <th>Close</th>\n",
       "      <td>0</td>\n",
       "      <td>0.0</td>\n",
       "    </tr>\n",
       "    <tr>\n",
       "      <th>Adj Close</th>\n",
       "      <td>0</td>\n",
       "      <td>0.0</td>\n",
       "    </tr>\n",
       "    <tr>\n",
       "      <th>Volume</th>\n",
       "      <td>0</td>\n",
       "      <td>0.0</td>\n",
       "    </tr>\n",
       "  </tbody>\n",
       "</table>\n",
       "</div>"
      ],
      "text/plain": [
       "           Missing Values  Percentage\n",
       "Open                    0         0.0\n",
       "High                    0         0.0\n",
       "Low                     0         0.0\n",
       "Close                   0         0.0\n",
       "Adj Close               0         0.0\n",
       "Volume                  0         0.0"
      ]
     },
     "execution_count": 15,
     "metadata": {},
     "output_type": "execute_result"
    }
   ],
   "source": [
    "missing_val = df.isnull().sum()\n",
    "missing_val_percentile = (100 * missing_val)/len(df)\n",
    "missing_val_table = pd.concat([missing_val,missing_val_percentile], axis = 1)\n",
    "missing_val_table = missing_val_table.rename(columns ={ 0: 'Missing Values', 1: 'Percentage'})\n",
    "missing_val_table = missing_val_table.sort_values(by = 'Missing Values', ascending = False)\n",
    "missing_val_table"
   ]
  },
  {
   "cell_type": "code",
   "execution_count": 17,
   "id": "1de35d6e",
   "metadata": {},
   "outputs": [
    {
     "ename": "ModuleNotFoundError",
     "evalue": "No module named 'missingno'",
     "output_type": "error",
     "traceback": [
      "\u001b[0;31m---------------------------------------------------------------------------\u001b[0m",
      "\u001b[0;31mModuleNotFoundError\u001b[0m                       Traceback (most recent call last)",
      "\u001b[0;32m/var/folders/6l/g9msy7yn4f5_h59zxyzxt9xh0000gn/T/ipykernel_30018/1258524309.py\u001b[0m in \u001b[0;36m<module>\u001b[0;34m\u001b[0m\n\u001b[1;32m      4\u001b[0m \u001b[0;32mimport\u001b[0m \u001b[0mmath\u001b[0m\u001b[0;34m\u001b[0m\u001b[0;34m\u001b[0m\u001b[0m\n\u001b[1;32m      5\u001b[0m \u001b[0;32mimport\u001b[0m \u001b[0mseaborn\u001b[0m \u001b[0;32mas\u001b[0m \u001b[0msns\u001b[0m\u001b[0;34m\u001b[0m\u001b[0;34m\u001b[0m\u001b[0m\n\u001b[0;32m----> 6\u001b[0;31m \u001b[0;32mimport\u001b[0m \u001b[0mmissingno\u001b[0m \u001b[0;32mas\u001b[0m \u001b[0mmsno\u001b[0m\u001b[0;34m\u001b[0m\u001b[0;34m\u001b[0m\u001b[0m\n\u001b[0m\u001b[1;32m      7\u001b[0m \u001b[0;32mimport\u001b[0m \u001b[0mplotly\u001b[0m\u001b[0;34m.\u001b[0m\u001b[0mexpress\u001b[0m \u001b[0;32mas\u001b[0m \u001b[0mpx\u001b[0m\u001b[0;34m\u001b[0m\u001b[0;34m\u001b[0m\u001b[0m\n\u001b[1;32m      8\u001b[0m \u001b[0;32mimport\u001b[0m \u001b[0mplotly\u001b[0m\u001b[0;34m.\u001b[0m\u001b[0mgraph_objects\u001b[0m \u001b[0;32mas\u001b[0m \u001b[0mgo\u001b[0m\u001b[0;34m\u001b[0m\u001b[0;34m\u001b[0m\u001b[0m\n",
      "\u001b[0;31mModuleNotFoundError\u001b[0m: No module named 'missingno'"
     ]
    }
   ],
   "source": [
    "import numpy as np\n",
    "import pandas as pd\n",
    "import matplotlib.pyplot as plt\n",
    "import math\n",
    "import seaborn as sns\n",
    "import missingno as msno\n",
    "import plotly.express as px\n",
    "import plotly.graph_objects as go\n",
    "import matplotlib.dates as mdates\n",
    "import scipy.stats\n",
    "from sklearn.metrics import mean_absolute_error, mean_squared_error\n",
    "import pylab\n",
    "sns.set(style='white')\n",
    "# from pmdarima import auto_arima\n",
    "from statsmodels.tsa.stattools import adfuller\n",
    "import statsmodels.api as sm\n",
    "from statsmodels.tsa.seasonal import seasonal_decompose\n",
    "import lightgbm as lgb\n",
    "\n",
    "import warnings\n",
    "warnings.filterwarnings('ignore')"
   ]
  },
  {
   "cell_type": "code",
   "execution_count": 19,
   "id": "882ef1e4",
   "metadata": {},
   "outputs": [
    {
     "ename": "SyntaxError",
     "evalue": "invalid syntax (581114978.py, line 1)",
     "output_type": "error",
     "traceback": [
      "\u001b[0;36m  File \u001b[0;32m\"/var/folders/6l/g9msy7yn4f5_h59zxyzxt9xh0000gn/T/ipykernel_30018/581114978.py\"\u001b[0;36m, line \u001b[0;32m1\u001b[0m\n\u001b[0;31m    pip install missingno\u001b[0m\n\u001b[0m        ^\u001b[0m\n\u001b[0;31mSyntaxError\u001b[0m\u001b[0;31m:\u001b[0m invalid syntax\n"
     ]
    }
   ],
   "source": []
  },
  {
   "cell_type": "code",
   "execution_count": null,
   "id": "8d6429f6",
   "metadata": {},
   "outputs": [],
   "source": []
  }
 ],
 "metadata": {
  "kernelspec": {
   "display_name": "Python 3 (ipykernel)",
   "language": "python",
   "name": "python3"
  },
  "language_info": {
   "codemirror_mode": {
    "name": "ipython",
    "version": 3
   },
   "file_extension": ".py",
   "mimetype": "text/x-python",
   "name": "python",
   "nbconvert_exporter": "python",
   "pygments_lexer": "ipython3",
   "version": "3.9.7"
  }
 },
 "nbformat": 4,
 "nbformat_minor": 5
}
